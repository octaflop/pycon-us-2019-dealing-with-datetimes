{
 "cells": [
  {
   "cell_type": "markdown",
   "metadata": {},
   "source": [
    "# Datetimes on the Monolith"
   ]
  },
  {
   "cell_type": "markdown",
   "metadata": {},
   "source": [
    "At Teem, we tend to use pytz on the monolith"
   ]
  },
  {
   "cell_type": "markdown",
   "metadata": {},
   "source": [
    "Problems with `pytz`\n",
    "\n",
    "- Doesn't use the native datetime type -- has its own built-in type\n",
    "- Static, not dynamic\n",
    "\n",
    "Use `dateutil` instead"
   ]
  },
  {
   "cell_type": "code",
   "execution_count": 9,
   "metadata": {},
   "outputs": [
    {
     "name": "stdout",
     "output_type": "stream",
     "text": [
      "2018-02-14 12:00:00-04:56\n"
     ]
    }
   ],
   "source": [
    "import pytz\n",
    "from datetime import datetime, timedelta\n",
    "\n",
    "# PYTZ\n",
    "NYC = pytz.timezone('America/New_York')\n",
    "dt = datetime(2018, 2, 14, 12, tzinfo=NYC)\n",
    "print(dt)"
   ]
  },
  {
   "cell_type": "markdown",
   "metadata": {},
   "source": [
    "You must call `localize` on the time zone object because pytz starts with a historic time first"
   ]
  },
  {
   "cell_type": "code",
   "execution_count": 12,
   "metadata": {},
   "outputs": [
    {
     "name": "stdout",
     "output_type": "stream",
     "text": [
      "2018-02-14 12:00:00-05:00\n"
     ]
    }
   ],
   "source": [
    "dt = NYC.localize(datetime(2018, 2, 14, 12))\n",
    "print(dt)"
   ]
  },
  {
   "cell_type": "markdown",
   "metadata": {},
   "source": [
    "You also need to call localize every time you do a computation"
   ]
  },
  {
   "cell_type": "code",
   "execution_count": 17,
   "metadata": {},
   "outputs": [
    {
     "name": "stdout",
     "output_type": "stream",
     "text": [
      "2018-04-15 12:00:00-05:00\n",
      "2018-06-14 12:00:00-05:00\n",
      "2018-04-15 12:00:00-04:00\n",
      "2018-06-14 12:00:00-04:00\n"
     ]
    }
   ],
   "source": [
    "dt2 = dt + timedelta(days=60)\n",
    "dt3 = dt2 + timedelta(days=60)\n",
    "\n",
    "print(dt2)\n",
    "print(dt3)\n",
    "\n",
    "print(NYC.localize(dt2.replace(tzinfo=None)))\n",
    "print(NYC.localize(dt3.replace(tzinfo=None)))"
   ]
  },
  {
   "cell_type": "code",
   "execution_count": 6,
   "metadata": {},
   "outputs": [
    {
     "name": "stdout",
     "output_type": "stream",
     "text": [
      "2018-02-14 12:00:00-05:00\n",
      "2018-04-15 12:00:00-04:00\n"
     ]
    }
   ],
   "source": [
    "from dateutil import tz\n",
    "from datetime import datetime, timedelta\n",
    "\n",
    "NYC = tz.gettz('America/New_York')\n",
    "dt_winter = datetime(2018, 2, 14, 12, tzinfo=NYC)\n",
    "print(dt_winter)\n",
    "\n",
    "dt_spring = dt_winter + timedelta(days=60)\n",
    "print(dt_spring)"
   ]
  },
  {
   "cell_type": "markdown",
   "metadata": {},
   "source": [
    "Also: we're stuck on python 2.7, so no `fold` attribute for ambigious times for us!"
   ]
  },
  {
   "cell_type": "markdown",
   "metadata": {},
   "source": [
    "# Recurrence"
   ]
  },
  {
   "cell_type": "markdown",
   "metadata": {},
   "source": [
    "https://tools.ietf.org/html/rfc5545#section-3.3.10"
   ]
  },
  {
   "cell_type": "code",
   "execution_count": 13,
   "metadata": {},
   "outputs": [
    {
     "name": "stdout",
     "output_type": "stream",
     "text": [
      "2016-07-18 09:00:00\n",
      "2016-07-18 10:00:00\n",
      "2016-07-18 11:00:00\n"
     ]
    }
   ],
   "source": [
    "from datetime import datetime\n",
    "\n",
    "from dateutil.rrule import rrule\n",
    "from dateutil.rrule import MO, TU, WE, TH, FR, SA, SU\n",
    "from dateutil.rrule import YEARLY, MONTHLY, WEEKLY, DAILY, HOURLY, MINUTELY, SECONDLY\n",
    "\n",
    "\n",
    "from helper_functions import print_dtlist\n",
    "\n",
    "\n",
    "hourly = rrule(freq=HOURLY, interval=1, dtstart=datetime(2016, 7, 18, 9), count=3)\n",
    "print_dtlist(hourly)"
   ]
  },
  {
   "cell_type": "code",
   "execution_count": null,
   "metadata": {},
   "outputs": [],
   "source": []
  }
 ],
 "metadata": {
  "kernelspec": {
   "display_name": "Python 3",
   "language": "python",
   "name": "python3"
  },
  "language_info": {
   "codemirror_mode": {
    "name": "ipython",
    "version": 3
   },
   "file_extension": ".py",
   "mimetype": "text/x-python",
   "name": "python",
   "nbconvert_exporter": "python",
   "pygments_lexer": "ipython3",
   "version": "3.6.7"
  }
 },
 "nbformat": 4,
 "nbformat_minor": 2
}
