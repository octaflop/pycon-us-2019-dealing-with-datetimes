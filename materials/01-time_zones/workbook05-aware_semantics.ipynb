{
 "cells": [
  {
   "cell_type": "markdown",
   "metadata": {},
   "source": [
    "# Working with Time Zones"
   ]
  },
  {
   "cell_type": "markdown",
   "metadata": {},
   "source": [
    "## Aware datetime comparison semantics"
   ]
  },
  {
   "cell_type": "markdown",
   "metadata": {},
   "source": [
    "We will start this section off with a mysterious bug involving the comparison of datetimes:"
   ]
  },
  {
   "cell_type": "code",
   "execution_count": 1,
   "metadata": {},
   "outputs": [],
   "source": [
    "from datetime import datetime, timedelta\n",
    "from dateutil import tz"
   ]
  },
  {
   "cell_type": "code",
   "execution_count": 2,
   "metadata": {},
   "outputs": [],
   "source": [
    "LON = tz.gettz('Europe/London')\n",
    "\n",
    "# Construct a datetime\n",
    "x = datetime(2007, 3, 25, 1, 9, tzinfo=LON)\n",
    "ts = x.timestamp()    # Get a timestamp representing the same datetime\n",
    "\n",
    "# Get the same datetime from the timestamp\n",
    "y = datetime.fromtimestamp(ts, LON)\n",
    "\n",
    "# Get thesame datetime from the timestamp with a fresh instance of LON\n",
    "z = datetime.fromtimestamp(ts, tz.gettz.nocache('Europe/London'))"
   ]
  },
  {
   "cell_type": "code",
   "execution_count": 3,
   "metadata": {},
   "outputs": [],
   "source": [
    "x == y"
   ]
  },
  {
   "cell_type": "code",
   "execution_count": 4,
   "metadata": {},
   "outputs": [],
   "source": [
    "x == z"
   ]
  },
  {
   "cell_type": "code",
   "execution_count": 5,
   "metadata": {},
   "outputs": [],
   "source": [
    "y == z"
   ]
  },
  {
   "cell_type": "markdown",
   "metadata": {},
   "source": [
    "To summarize: x, y and z should all represent the same `datetime` – they all have the same time zone, and y and z are the result of converting x into a timestamp and then back into a `datetime`, but for some reason `x != y`, and, even more curiously, `x == z`, even though the only difference between y and z is that z uses a different `tzinfo` object (representing the same zone). Even stranger, the equality relationship between the three is non-transitive, because `x != y` even though `x == z` and `y == z`. What the hell is going on?"
   ]
  },
  {
   "cell_type": "markdown",
   "metadata": {},
   "source": [
    "### Inter-zone vs. intra-zone comparisons"
   ]
  },
  {
   "cell_type": "markdown",
   "metadata": {},
   "source": [
    "In Python, comparisons between datetimes are divided into \"same zone\" and \"different zone\" comparisons. When two `datetime`s are in the same time-zone, they are equal if their \"wall time\" is the same, *even if they represent different absolute times*:"
   ]
  },
  {
   "cell_type": "code",
   "execution_count": 6,
   "metadata": {},
   "outputs": [],
   "source": [
    "dt1 = datetime(2017, 10, 29, 1, 30, tzinfo=LON)\n",
    "dt2 = datetime(2017, 10, 29, 1, 30, fold=1, tzinfo=LON)\n",
    "\n",
    "print(f\"{dt1} | {dt1.timestamp()}\")\n",
    "print(f\"{dt2} | {dt2.timestamp()}\")"
   ]
  },
  {
   "cell_type": "code",
   "execution_count": 7,
   "metadata": {},
   "outputs": [
    {
     "data": {
      "text/plain": [
       "True"
      ]
     },
     "execution_count": 7,
     "metadata": {},
     "output_type": "execute_result"
    }
   ],
   "source": [
    "dt1 == dt2"
   ]
  },
  {
   "cell_type": "markdown",
   "metadata": {},
   "source": [
    "Comparisons between datetimes in *different* zones, however, use \"absolute time\" semantics, meaning that the wall time can be different, as long as they refer to the same time in UTC:"
   ]
  },
  {
   "cell_type": "code",
   "execution_count": 8,
   "metadata": {},
   "outputs": [
    {
     "name": "stdout",
     "output_type": "stream",
     "text": [
      "2018-04-07 01:30:00-05:00 | 1523082600.0\n",
      "2018-04-07 02:30:00-04:00 | 1523082600.0\n"
     ]
    }
   ],
   "source": [
    "dt1 = datetime(2018, 4, 7, 1, 30, tzinfo=tz.gettz(\"America/Chicago\"))\n",
    "dt2 = datetime(2018, 4, 7, 2, 30, tzinfo=tz.gettz(\"America/New_York\"))\n",
    "print(f\"{dt1} | {dt1.timestamp()}\")\n",
    "print(f\"{dt2} | {dt2.timestamp()}\")"
   ]
  },
  {
   "cell_type": "code",
   "execution_count": 9,
   "metadata": {},
   "outputs": [
    {
     "data": {
      "text/plain": [
       "True"
      ]
     },
     "execution_count": 9,
     "metadata": {},
     "output_type": "execute_result"
    }
   ],
   "source": [
    "dt1 == dt2"
   ]
  },
  {
   "cell_type": "markdown",
   "metadata": {},
   "source": [
    "#### What does it mean to be in the \"same zone\"?\n",
    "\n",
    "When deciding what is the \"same zone\" and what is a \"different zone\", Python uses *object equality* rather than *value equality*, which means to say two datetimes are in the same zone if `dt1.tzinfo is dt2.tzinfo`, and otherwise they are in different zones, *even if* `dt1.tzinfo == dt2.tzinfo`!\n",
    "\n",
    "This means that we can re-cast the \"intra-zone\" comparison as an \"inter-zone\" comparison by just getting a new object to represent the same zone:"
   ]
  },
  {
   "cell_type": "code",
   "execution_count": 10,
   "metadata": {},
   "outputs": [
    {
     "name": "stdout",
     "output_type": "stream",
     "text": [
      "2017-10-29 01:30:00+01:00 | 1509237000.0\n",
      "2017-10-29 01:30:00+00:00 | 1509240600.0\n",
      "\n",
      "2017-10-29 01:30:00+01:00 == 2017-10-29 01:30:00+00:00: False\n"
     ]
    }
   ],
   "source": [
    "dt1 = datetime(2017, 10, 29, 1, 30, tzinfo=LON)\n",
    "dt2 = datetime(2017, 10, 29, 1, 30, fold=1, tzinfo=tz.gettz.nocache(\"Europe/London\"))\n",
    "\n",
    "print(f\"{dt1} | {dt1.timestamp()}\")\n",
    "print(f\"{dt2} | {dt2.timestamp()}\")\n",
    "print(\"\")\n",
    "print(f\"{dt1} == {dt2}: {dt1 == dt2}\")"
   ]
  },
  {
   "cell_type": "markdown",
   "metadata": {},
   "source": [
    "### Solving the mystery"
   ]
  },
  {
   "cell_type": "markdown",
   "metadata": {},
   "source": [
    "Returning to the mystery we started the section off with, we can now apply the same/different zone comparison semantics to our non-transitive equality and see what's happening."
   ]
  },
  {
   "cell_type": "code",
   "execution_count": 11,
   "metadata": {},
   "outputs": [
    {
     "name": "stdout",
     "output_type": "stream",
     "text": [
      "x == y (Same Zone): False\n",
      "x: 2007-03-25 01:09:00+01:00 (1174781340.0)\n",
      "y: 2007-03-25 00:09:00+00:00 (1174781340.0)\n",
      "\n",
      "x == z (Different Zone): True\n",
      "x: 2007-03-25 01:09:00+01:00 (1174781340.0)\n",
      "z: 2007-03-25 00:09:00+00:00 (1174781340.0)\n",
      "\n",
      "y == z (Different Zone): True\n",
      "y: 2007-03-25 00:09:00+00:00 (1174781340.0)\n",
      "z: 2007-03-25 00:09:00+00:00 (1174781340.0)\n"
     ]
    }
   ],
   "source": [
    "def zone_semantics(dt1, dt2):\n",
    "    return \"Same Zone\" if dt1.tzinfo is dt2.tzinfo else \"Different Zone\"\n",
    "\n",
    "print(f\"x == y ({zone_semantics(x, y)}): {x == y}\")\n",
    "print(f\"x: {x} ({x.timestamp()})\")\n",
    "print(f\"y: {y} ({y.timestamp()})\")\n",
    "print(\"\")\n",
    "print(f\"x == z ({zone_semantics(x, z)}): {x == z}\")\n",
    "print(f\"x: {x} ({x.timestamp()})\")\n",
    "print(f\"z: {z} ({z.timestamp()})\")\n",
    "print(\"\")\n",
    "print(f\"y == z ({zone_semantics(y, z)}): {y == z}\")\n",
    "print(f\"y: {y} ({y.timestamp()})\")\n",
    "print(f\"z: {z} ({z.timestamp()})\")"
   ]
  },
  {
   "cell_type": "markdown",
   "metadata": {},
   "source": [
    "#### But wait...\n",
    "Aren't `y` and `z` supposed to be `datetime.fromtimestamp(x.timestamp())`? Why is the wall time different after a round trip through a timestamp?\n",
    "\n",
    "And if these are all in the exact same time zone, why are there two different wall times for the same timestamp?"
   ]
  },
  {
   "cell_type": "code",
   "execution_count": 12,
   "metadata": {},
   "outputs": [
    {
     "data": {
      "text/plain": [
       "False"
      ]
     },
     "execution_count": 12,
     "metadata": {},
     "output_type": "execute_result"
    }
   ],
   "source": [
    "tz.datetime_exists(x)"
   ]
  },
  {
   "cell_type": "markdown",
   "metadata": {},
   "source": [
    "... because `x` is an imaginary datetime!"
   ]
  },
  {
   "cell_type": "markdown",
   "metadata": {},
   "source": [
    "## Aware datetime arithmetic semantics"
   ]
  },
  {
   "cell_type": "code",
   "execution_count": 13,
   "metadata": {},
   "outputs": [],
   "source": [
    "import tz_answers\n",
    "from tz_answers import wall_add, wall_sub\n",
    "from tz_answers import absolute_add, absolute_sub\n",
    "from tz_answers import AbsoluteDateTime, WallDateTime"
   ]
  },
  {
   "cell_type": "markdown",
   "metadata": {},
   "source": [
    "We have looked at *comparison* semantics, but it is worth noting that the difference between \"same zone\" and \"different zone\" comparisons really only makes a difference during *ambiguous* times and as we've seen in *imaginary* times. At all other times, the two are equivalent.\n",
    "\n",
    "Comparison is just a specific case of the more general arithmetical property of `datetime` objects that operations between datetimes in the same zone use \"wall time\" semantics (i.e. looking at the clock on the wall) and operations between dateimes in different zones use \"absolute time\" semantics (i.e. looking at a stopwatch or timestamp).\n",
    "\n",
    "\n",
    "#### Wall time vs. absolute time semantics\n",
    "Colloquially, time periods tend to be overloaded concepts, and what you mean when you say, e.g., \"a day\" or \"a month\" depends on the context. Looking at the following code, what would you expect the value for `dt2` to be?"
   ]
  },
  {
   "cell_type": "code",
   "execution_count": 14,
   "metadata": {},
   "outputs": [],
   "source": [
    "NYC = tz.gettz(\"America/New_York\")\n",
    "dt1 = datetime(2018, 3, 10, 13, tzinfo=NYC)\n",
    "dt2 = dt1 + timedelta(days=1)"
   ]
  },
  {
   "cell_type": "markdown",
   "metadata": {},
   "source": [
    "There are two options, the first is using \"wall time\" semantics, returning the next day at the same time (rolling the clock forward by 24 hours):"
   ]
  },
  {
   "cell_type": "code",
   "execution_count": 15,
   "metadata": {},
   "outputs": [
    {
     "name": "stdout",
     "output_type": "stream",
     "text": [
      "2018-03-10 13:00:00-05:00\n",
      "2018-03-11 13:00:00-04:00\n"
     ]
    }
   ],
   "source": [
    "print(dt1)\n",
    "print(wall_add(dt1, timedelta(days=1)))"
   ]
  },
  {
   "cell_type": "markdown",
   "metadata": {},
   "source": [
    "The second option is to use \"absolute time\" semantics, where we jump forward to the point in time after which 24 hours have elapsed in the \"real world\". Because the start date here is immediately before a daylight saving time transition, these give *different* answers:"
   ]
  },
  {
   "cell_type": "code",
   "execution_count": 16,
   "metadata": {},
   "outputs": [
    {
     "name": "stdout",
     "output_type": "stream",
     "text": [
      "2018-03-10 13:00:00-05:00\n",
      "2018-03-11 14:00:00-04:00\n"
     ]
    }
   ],
   "source": [
    "print(dt1)\n",
    "print(absolute_add(dt1, timedelta(days=1)))"
   ]
  },
  {
   "cell_type": "markdown",
   "metadata": {},
   "source": [
    "The concept of \"add one day\" is overloaded in this situation because the meaning of \"1 day\" can either mean \"the period between two identical clock times on subsequent days\" or it can mean \"the period during which 24 hours have elapsed\"."
   ]
  },
  {
   "cell_type": "markdown",
   "metadata": {},
   "source": [
    "**Question**: Which behavior is more intuitive? What would you choose for the default?"
   ]
  },
  {
   "cell_type": "markdown",
   "metadata": {},
   "source": [
    "Now look at subtraction between two datetimes across a DST transition:"
   ]
  },
  {
   "cell_type": "code",
   "execution_count": 17,
   "metadata": {},
   "outputs": [],
   "source": [
    "dt1 = datetime(2018, 3, 10, 13, 30, tzinfo=NYC)\n",
    "dt2 = datetime(2018, 3, 11, 8, 30, tzinfo=NYC)"
   ]
  },
  {
   "cell_type": "code",
   "execution_count": 18,
   "metadata": {},
   "outputs": [
    {
     "name": "stdout",
     "output_type": "stream",
     "text": [
      "19:00:00\n"
     ]
    }
   ],
   "source": [
    "print(wall_sub(dt2, dt1))"
   ]
  },
  {
   "cell_type": "code",
   "execution_count": 19,
   "metadata": {},
   "outputs": [
    {
     "name": "stdout",
     "output_type": "stream",
     "text": [
      "18:00:00\n"
     ]
    }
   ],
   "source": [
    "print(absolute_sub(dt2, dt1))"
   ]
  },
  {
   "cell_type": "markdown",
   "metadata": {},
   "source": [
    "A total of 18 real hours have elapsed, but `8 - 13 % 24 == 19`, so 19 \"wall hours\" have elapsed.\n",
    "\n",
    "**Question**: Which behavior is more intuitive? What would you choose as the default (ignoring your choice for the earlier question)\n"
   ]
  },
  {
   "cell_type": "markdown",
   "metadata": {},
   "source": [
    "### Python's behavior"
   ]
  },
  {
   "cell_type": "markdown",
   "metadata": {},
   "source": [
    "Assuming Python wanted to be consistent and have all operations use *either* wall-time operations or absolute-time operations, whatever you choose is likely to have some non-intuitive behaviors. If, for example, we were to choose to always use *absolute* `datetime`s, you would likely find someone who writes some variation of this code:"
   ]
  },
  {
   "cell_type": "code",
   "execution_count": 20,
   "metadata": {},
   "outputs": [
    {
     "name": "stdout",
     "output_type": "stream",
     "text": [
      "2018-03-09 12:00:00-05:00\n",
      "2018-03-10 12:00:00-05:00\n",
      "2018-03-11 13:00:00-04:00\n",
      "2018-03-12 13:00:00-04:00\n"
     ]
    }
   ],
   "source": [
    "DAY = timedelta(days=1)\n",
    "dtstart = AbsoluteDateTime(2018, 3, 9, 12, tzinfo=NYC)\n",
    "for i in range(4):\n",
    "    print(dtstart + i * DAY)"
   ]
  },
  {
   "cell_type": "markdown",
   "metadata": {},
   "source": [
    "and they would be confused as to why all of a sudden their noon meeting was happening at 1 PM after a DST transition. If you choose *wall* times for everything, you'll get someone who writes some variation on *this* code:"
   ]
  },
  {
   "cell_type": "code",
   "execution_count": 21,
   "metadata": {},
   "outputs": [],
   "source": [
    "dtstart = WallDateTime(2018, 4, 17, 12, tzinfo=NYC)\n",
    "dtend = WallDateTime(2018, 4, 17, 12, tzinfo=tz.gettz('America/Los_Angeles'))"
   ]
  },
  {
   "cell_type": "code",
   "execution_count": 22,
   "metadata": {},
   "outputs": [
    {
     "name": "stdout",
     "output_type": "stream",
     "text": [
      "2018-04-17 12:00:00-04:00\n",
      "2018-04-17 12:00:00-07:00\n"
     ]
    }
   ],
   "source": [
    "print(dtstart)\n",
    "print(dtend)"
   ]
  },
  {
   "cell_type": "code",
   "execution_count": 23,
   "metadata": {},
   "outputs": [
    {
     "name": "stdout",
     "output_type": "stream",
     "text": [
      "0:00:00\n"
     ]
    }
   ],
   "source": [
    "print(dtend - dtstart)"
   ]
  },
  {
   "cell_type": "markdown",
   "metadata": {},
   "source": [
    "and they'll be surprised to find that these two events that happened 3 hours apart give 0 hours difference!"
   ]
  },
  {
   "cell_type": "markdown",
   "metadata": {},
   "source": [
    "As we saw in the comparison case, Python actually uses hybrid semantics that can be somewhat confusing, though there is at least a rhyme and a reason behind it. For arithmetic within the \"same zone\", all operations use wall time semantics. Because addition returns a `datetime` in the same time zone as the input `datetime`, it is always considered a \"same zone\" operation, and thus always uses wall time semantics.\n",
    "\n",
    "Because wall time semantics across different time zones is essentially *never* what you want, the choice of \"absolute time\" semantics for subtractions between two datetimes in different time zones also makes sense and gives you the \"intuitive\" behavior you would expect.\n",
    "\n",
    "However, note that both wall-time subtraction and absolute-time subtraction return a `timedelta`, which has no notion of whether it represents a period of \"wall time\" or a period of \"absolute time\". As a result, you are stuck with a counter-intuitive result:"
   ]
  },
  {
   "cell_type": "code",
   "execution_count": 24,
   "metadata": {},
   "outputs": [],
   "source": [
    "dt1 = datetime(2018, 3, 11, 1, tzinfo=NYC)\n",
    "dt2 = datetime(2018, 3, 11, 1, tzinfo=tz.gettz('America/Los_Angeles'))"
   ]
  },
  {
   "cell_type": "code",
   "execution_count": 25,
   "metadata": {},
   "outputs": [
    {
     "data": {
      "text/plain": [
       "True"
      ]
     },
     "execution_count": 25,
     "metadata": {},
     "output_type": "execute_result"
    }
   ],
   "source": [
    "dt1 == dt2 + (dt1 - dt2)"
   ]
  },
  {
   "cell_type": "code",
   "execution_count": 26,
   "metadata": {},
   "outputs": [
    {
     "data": {
      "text/plain": [
       "False"
      ]
     },
     "execution_count": 26,
     "metadata": {},
     "output_type": "execute_result"
    }
   ],
   "source": [
    "dt2 == dt1 + (dt2 - dt1)"
   ]
  },
  {
   "cell_type": "markdown",
   "metadata": {},
   "source": [
    "Across a DST boundary, you cannot reverse a between-zone boundary by adding the result (a `timedelta`) to the original value!"
   ]
  },
  {
   "cell_type": "markdown",
   "metadata": {},
   "source": [
    "### Exercise: Implement explicit wall-time and absolute-time arithmetic\n"
   ]
  },
  {
   "cell_type": "markdown",
   "metadata": {},
   "source": [
    "Knowing how Python handles aware time zone arithmetic, by paying attention to the time zones you work in you should be able to design your system so that you get the semantics you want, *but* it is occasionally the case that you will mostly want wall-time semantics but for some operations you want absolute time, or vice-versa. In this case, you will want a way to explicitly operate using either wall-time or absolute-time semantics.\n",
    "\n",
    "In this exercise, implement the `wall_add`, `wall_sub`, `absolute_add` and `absolute_sub` functions that explicitly give you wall time or absolute time semantics."
   ]
  },
  {
   "cell_type": "code",
   "execution_count": 27,
   "metadata": {},
   "outputs": [],
   "source": [
    "def wall_add(dt: datetime, offset: timedelta) -> datetime:\n",
    "    \"\"\"Addition with \"wall-time\" semantics\"\"\"\n",
    "    pass\n",
    "\n",
    "### Uncomment to test\n",
    "# tz_tests.test_wall_add(wall_add)"
   ]
  },
  {
   "cell_type": "code",
   "execution_count": 28,
   "metadata": {},
   "outputs": [],
   "source": [
    "def wall_sub(dt: datetime, other: datetime) -> timedelta:\n",
    "    \"\"\"Subtraction with \"wall time\" semantics\"\"\"\n",
    "    pass\n",
    "\n",
    "### Uncomment to test\n",
    "# tz_tests.test_wall_sub(wall_sub)"
   ]
  },
  {
   "cell_type": "code",
   "execution_count": 29,
   "metadata": {},
   "outputs": [],
   "source": [
    "def absolute_add(dt: datetime, offset: timedelta) -> datetime:\n",
    "    \"\"\"Addition with \"absolute time\" semantics\"\"\"\n",
    "    pass\n",
    "\n",
    "### Uncomment to test\n",
    "# tz_tests.test_absolute_add(absolute_add)"
   ]
  },
  {
   "cell_type": "code",
   "execution_count": 30,
   "metadata": {},
   "outputs": [],
   "source": [
    "def absolute_sub(dt: datetime, other: datetime) -> timedelta:\n",
    "    \"\"\"Subtraction with \"absolute time\" semantics\"\"\"\n",
    "    pass\n",
    "\n",
    "### Uncomment to test\n",
    "# tz_tests.test_absolute_sub(absolute_sub)"
   ]
  }
 ],
 "metadata": {
  "kernelspec": {
   "display_name": "Python 3",
   "language": "python",
   "name": "python3"
  },
  "language_info": {
   "codemirror_mode": {
    "name": "ipython",
    "version": 3
   },
   "file_extension": ".py",
   "mimetype": "text/x-python",
   "name": "python",
   "nbconvert_exporter": "python",
   "pygments_lexer": "ipython3",
   "version": "3.7.3"
  }
 },
 "nbformat": 4,
 "nbformat_minor": 2
}
