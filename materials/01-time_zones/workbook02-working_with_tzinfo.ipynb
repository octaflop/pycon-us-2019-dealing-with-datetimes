{
 "cells": [
  {
   "cell_type": "markdown",
   "metadata": {},
   "source": [
    "# Working with Time Zones"
   ]
  },
  {
   "cell_type": "markdown",
   "metadata": {},
   "source": [
    "## Creating and working with time-zone objects"
   ]
  },
  {
   "cell_type": "markdown",
   "metadata": {},
   "source": [
    "The standard way to create a datetime literal is to attach it to the constructor by passing it to the `tzinfo` argument of the constructor:"
   ]
  },
  {
   "cell_type": "code",
   "execution_count": 1,
   "metadata": {},
   "outputs": [],
   "source": [
    "from datetime import datetime, timezone, timedelta\n",
    "from dateutil import tz"
   ]
  },
  {
   "cell_type": "code",
   "execution_count": 2,
   "metadata": {},
   "outputs": [],
   "source": [
    "from helper_functions import print_dt_tzinfo"
   ]
  },
  {
   "cell_type": "code",
   "execution_count": 3,
   "metadata": {},
   "outputs": [],
   "source": [
    "EASTERN = tz.gettz(\"America/New_York\")"
   ]
  },
  {
   "cell_type": "code",
   "execution_count": 4,
   "metadata": {},
   "outputs": [
    {
     "name": "stdout",
     "output_type": "stream",
     "text": [
      "2017-08-11 14:00:00-0400\n",
      "    tzname:   EDT;      UTC Offset:  -4.00h;        DST:      1.0h\n"
     ]
    }
   ],
   "source": [
    "dt = datetime(2017, 8, 11, 14, tzinfo=EASTERN)\n",
    "print_dt_tzinfo(dt)"
   ]
  },
  {
   "cell_type": "markdown",
   "metadata": {},
   "source": [
    "If you have a naïve wall time or a wall time in another zone that you want to translate without shifting, use `datetime.replace`:"
   ]
  },
  {
   "cell_type": "code",
   "execution_count": 5,
   "metadata": {},
   "outputs": [
    {
     "name": "stdout",
     "output_type": "stream",
     "text": [
      "2017-08-11 14:00:00-0700\n",
      "    tzname:   PDT;      UTC Offset:  -7.00h;        DST:      1.0h\n"
     ]
    }
   ],
   "source": [
    "print_dt_tzinfo(dt.replace(tzinfo=tz.gettz('America/Los_Angeles')))"
   ]
  },
  {
   "cell_type": "markdown",
   "metadata": {},
   "source": [
    "If you have an *absolute* time, in UTC or otherwise, and you want to represent it in another timezone, use `datetime.astimezone`:"
   ]
  },
  {
   "cell_type": "code",
   "execution_count": 6,
   "metadata": {},
   "outputs": [
    {
     "name": "stdout",
     "output_type": "stream",
     "text": [
      "2017-08-11 11:00:00-0700\n",
      "    tzname:   PDT;      UTC Offset:  -7.00h;        DST:      1.0h\n"
     ]
    }
   ],
   "source": [
    "print_dt_tzinfo(dt.astimezone(tz.gettz('America/Los_Angeles')))"
   ]
  },
  {
   "cell_type": "markdown",
   "metadata": {},
   "source": [
    "### `pytz`"
   ]
  },
  {
   "cell_type": "markdown",
   "metadata": {},
   "source": [
    "In `pytz`, `datetime.astimezone()` still works as expected:"
   ]
  },
  {
   "cell_type": "code",
   "execution_count": 7,
   "metadata": {},
   "outputs": [],
   "source": [
    "import pytz"
   ]
  },
  {
   "cell_type": "code",
   "execution_count": 8,
   "metadata": {},
   "outputs": [
    {
     "name": "stdout",
     "output_type": "stream",
     "text": [
      "2017-08-11 11:00:00-0700\n",
      "    tzname:   PDT;      UTC Offset:  -7.00h;        DST:      1.0h\n"
     ]
    }
   ],
   "source": [
    "print_dt_tzinfo(dt.astimezone(pytz.timezone('America/Los_Angeles')))"
   ]
  },
  {
   "cell_type": "markdown",
   "metadata": {},
   "source": [
    "But the constructor and `.replace` methods fail horribly:"
   ]
  },
  {
   "cell_type": "code",
   "execution_count": 9,
   "metadata": {},
   "outputs": [
    {
     "name": "stdout",
     "output_type": "stream",
     "text": [
      "2017-08-11 14:00:00-0753\n",
      "    tzname:   LMT;      UTC Offset:  -7.88h;        DST:      0.0h\n"
     ]
    }
   ],
   "source": [
    "print_dt_tzinfo(dt.replace(tzinfo=pytz.timezone('America/Los_Angeles')))"
   ]
  },
  {
   "cell_type": "markdown",
   "metadata": {},
   "source": [
    "This is because `pytz` uses a different time zone model. `pytz`'s time zone model implements the `tzinfo` interface *statically*, which is to say that the `tzname`, `utcoffset` and `dst` are all calculated eagerly, when the `tzinfo` is attached to the `datetime`.\n",
    "\n",
    "In order to accomplish this, `pytz` expects all `tzinfo` objects to be attached to the `datetime` *by the time zone object itself*, using the `localize()` method:"
   ]
  },
  {
   "cell_type": "code",
   "execution_count": 10,
   "metadata": {},
   "outputs": [
    {
     "name": "stdout",
     "output_type": "stream",
     "text": [
      "2017-08-11 14:00:00-0400\n",
      "    tzname:   EDT;      UTC Offset:  -4.00h;        DST:      1.0h\n"
     ]
    }
   ],
   "source": [
    "EASTERN_p = pytz.timezone('America/New_York')\n",
    "dt_p = EASTERN_p.localize(datetime(2017, 8, 11, 14))\n",
    "print_dt_tzinfo(dt_p)"
   ]
  },
  {
   "cell_type": "markdown",
   "metadata": {},
   "source": [
    "This also means that unlike with normal `tzinfo` objects, after you've done some arithmetic on a `pytz`-aware `datetime` object, you must `normalize` it:"
   ]
  },
  {
   "cell_type": "code",
   "execution_count": 11,
   "metadata": {},
   "outputs": [
    {
     "name": "stdout",
     "output_type": "stream",
     "text": [
      "dateutil:\n",
      "2018-02-07 14:00:00-0500\n",
      "    tzname:   EST;      UTC Offset:  -5.00h;        DST:      0.0h\n",
      "\n",
      "pytz\n",
      "2018-02-07 14:00:00-0400\n",
      "    tzname:   EDT;      UTC Offset:  -4.00h;        DST:      1.0h\n"
     ]
    }
   ],
   "source": [
    "print('dateutil:')\n",
    "print_dt_tzinfo(dt + timedelta(days=180))\n",
    "print('')\n",
    "print('pytz')\n",
    "print_dt_tzinfo(dt_p + timedelta(days=180))"
   ]
  },
  {
   "cell_type": "code",
   "execution_count": 12,
   "metadata": {},
   "outputs": [
    {
     "name": "stdout",
     "output_type": "stream",
     "text": [
      "2018-02-07 13:00:00-0500\n",
      "    tzname:   EST;      UTC Offset:  -5.00h;        DST:      0.0h\n"
     ]
    }
   ],
   "source": [
    "print_dt_tzinfo(EASTERN_p.normalize(dt_p + timedelta(days=180)))"
   ]
  },
  {
   "cell_type": "markdown",
   "metadata": {},
   "source": [
    "### `datetime.now` and `datetime.fromtimestamp`"
   ]
  },
  {
   "cell_type": "markdown",
   "metadata": {},
   "source": [
    "The alternate constructors `now()` and `fromtimestamp` both take an optional argument `tz`:\n",
    "\n",
    "\n",
    "```python\n",
    "    def now(tz=None):\n",
    "        \"\"\"Get the datetime representing the current time\"\"\"\n",
    "        # ...\n",
    "\n",
    "    def fromtimestamp(self, timestamp, tz=None):\n",
    "        \"\"\" Return the datetime corresponding to a POSIX timestamp \"\"\"\n",
    "        # ...\n",
    "```\n",
    "\n",
    "If the `tz` parameter is not passed, they will return a *naïve* datetime, representing the time in your system local time."
   ]
  },
  {
   "cell_type": "code",
   "execution_count": 13,
   "metadata": {},
   "outputs": [
    {
     "data": {
      "text/plain": [
       "datetime.datetime(2019, 12, 31, 22, 0)"
      ]
     },
     "execution_count": 13,
     "metadata": {},
     "output_type": "execute_result"
    }
   ],
   "source": [
    "datetime.fromtimestamp(1577854800.0)"
   ]
  },
  {
   "cell_type": "markdown",
   "metadata": {},
   "source": [
    "If you want an *aware* timezone from a timestamp (or the current time), pass it to the `tz` parameter, and it will calculate the correct `datetime` matching that time zone. This works with both `pytz` and `dateutil.tz`:"
   ]
  },
  {
   "cell_type": "code",
   "execution_count": 14,
   "metadata": {},
   "outputs": [
    {
     "name": "stdout",
     "output_type": "stream",
     "text": [
      "pytz:\n",
      "2019-12-31 21:30:00-0500\n",
      "    tzname:   EST;      UTC Offset:  -5.00h;        DST:      0.0h\n",
      "\n",
      "dateutil:\n",
      "2019-12-31 21:30:00-0500\n",
      "    tzname:   EST;      UTC Offset:  -5.00h;        DST:      0.0h\n"
     ]
    }
   ],
   "source": [
    "print(\"pytz:\")\n",
    "print_dt_tzinfo(datetime.fromtimestamp(1577845800.0, tz=EASTERN_p))\n",
    "print(\"\")\n",
    "print(\"dateutil:\")\n",
    "print_dt_tzinfo(datetime.fromtimestamp(1577845800.0, tz=EASTERN))"
   ]
  },
  {
   "cell_type": "markdown",
   "metadata": {},
   "source": [
    "**Note**: There are also the semi-deprecated `datetime.utcnow()` and `datetime.utcfromtimestamp()` functions. These  return a *naïve* datetime expressed in UTC. It is almost always better to simply pass `tz=UTC` (where `UTC` is some time zone object), which will give you an *aware* `datetime`."
   ]
  },
  {
   "cell_type": "markdown",
   "metadata": {},
   "source": [
    "### Exercise: Current time in multiple time zones\n"
   ]
  },
  {
   "cell_type": "markdown",
   "metadata": {},
   "source": [
    "To practice using time zones, try writing a function that takes as inputs a list of IANA time zones and prints the time in each time zone.\n",
    "\n",
    "**NOTE**: Multiple calls to `datetime.now` will give you *different* answers for each time zone. Try to accomplish this with only *one* call to `datetime.now`.\n",
    "\n",
    "So, for example:\n",
    "\n",
    "```python\n",
    ">>> now_in_zones(['Asia/Tokyo',\n",
    "...               'Europe/Berlin',\n",
    "...               'America/New_York',\n",
    "...               'America/Los_Angeles'])\n",
    "```\n",
    "```\n",
    "Asia/Tokyo:               2020-01-01 14:00:00+09:00\n",
    "Europe/Berlin:            2020-01-01 06:00:00+01:00\n",
    "America/New_York:         2020-01-01 00:00:00-05:00\n",
    "America/Los_Angeles:      2019-12-31 21:00:00-08:00\n",
    "```"
   ]
  },
  {
   "cell_type": "code",
   "execution_count": 31,
   "metadata": {},
   "outputs": [],
   "source": [
    "from dateutil import tz"
   ]
  },
  {
   "cell_type": "code",
   "execution_count": 19,
   "metadata": {
    "collapsed": true
   },
   "outputs": [
    {
     "data": {
      "text/plain": [
       "['__class__',\n",
       " '__delattr__',\n",
       " '__dict__',\n",
       " '__dir__',\n",
       " '__doc__',\n",
       " '__eq__',\n",
       " '__format__',\n",
       " '__ge__',\n",
       " '__getattribute__',\n",
       " '__gt__',\n",
       " '__hash__',\n",
       " '__init__',\n",
       " '__init_subclass__',\n",
       " '__le__',\n",
       " '__lt__',\n",
       " '__module__',\n",
       " '__ne__',\n",
       " '__new__',\n",
       " '__reduce__',\n",
       " '__reduce_ex__',\n",
       " '__repr__',\n",
       " '__setattr__',\n",
       " '__sizeof__',\n",
       " '__str__',\n",
       " '__subclasshook__',\n",
       " '__weakref__',\n",
       " '_filename',\n",
       " '_find_last_transition',\n",
       " '_find_ttinfo',\n",
       " '_fold',\n",
       " '_fold_status',\n",
       " '_fromutc',\n",
       " '_get_ttinfo',\n",
       " '_read_tzfile',\n",
       " '_resolve_ambiguous_time',\n",
       " '_set_tzdata',\n",
       " '_trans_idx',\n",
       " '_trans_list',\n",
       " '_trans_list_utc',\n",
       " '_ttinfo_before',\n",
       " '_ttinfo_dst',\n",
       " '_ttinfo_first',\n",
       " '_ttinfo_list',\n",
       " '_ttinfo_std',\n",
       " 'dst',\n",
       " 'fromutc',\n",
       " 'is_ambiguous',\n",
       " 'tzname',\n",
       " 'utcoffset']"
      ]
     },
     "execution_count": 19,
     "metadata": {},
     "output_type": "execute_result"
    }
   ],
   "source": [
    "Tokyo = tz.gettz('Asia/Tokyo')\n",
    "dir(Tokyo)"
   ]
  },
  {
   "cell_type": "code",
   "execution_count": 33,
   "metadata": {},
   "outputs": [
    {
     "name": "stdout",
     "output_type": "stream",
     "text": [
      "Asia/Tokyo:               2019-05-02 02:58:39.961165+09:00\n",
      "Europe/Berlin:            2019-05-01 19:58:39.961165+02:00\n",
      "America/New_York:         2019-05-01 13:58:39.961165-04:00\n",
      "America/Los_Angeles:      2019-05-01 10:58:39.961165-07:00\n"
     ]
    }
   ],
   "source": [
    "def now_in_zones(tz_list):\n",
    "    now = datetime.now(tz=tz.UTC)\n",
    "    for zone in tz_list:\n",
    "        t = tz.gettz(zone)\n",
    "        dt = now.astimezone(t)\n",
    "        print(f\"{zone + ':':<25} {dt}\")\n",
    "\n",
    "now_in_zones(['Asia/Tokyo',\n",
    "              'Europe/Berlin',\n",
    "              'America/New_York',\n",
    "              'America/Los_Angeles'])\n",
    "    "
   ]
  },
  {
   "cell_type": "code",
   "execution_count": null,
   "metadata": {},
   "outputs": [],
   "source": []
  }
 ],
 "metadata": {
  "kernelspec": {
   "display_name": "Python 3",
   "language": "python",
   "name": "python3"
  },
  "language_info": {
   "codemirror_mode": {
    "name": "ipython",
    "version": 3
   },
   "file_extension": ".py",
   "mimetype": "text/x-python",
   "name": "python",
   "nbconvert_exporter": "python",
   "pygments_lexer": "ipython3",
   "version": "3.7.3"
  }
 },
 "nbformat": 4,
 "nbformat_minor": 2
}
