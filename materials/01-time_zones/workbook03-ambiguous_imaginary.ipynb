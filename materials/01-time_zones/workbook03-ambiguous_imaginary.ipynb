{
 "cells": [
  {
   "cell_type": "markdown",
   "metadata": {},
   "source": [
    "# Working with Time Zones"
   ]
  },
  {
   "cell_type": "markdown",
   "metadata": {},
   "source": [
    "## Ambiguous and imaginary times"
   ]
  },
  {
   "cell_type": "markdown",
   "metadata": {},
   "source": [
    "### Ambiguous times\n",
    "An *ambiguous* time is when the same \"wall time\" occurs more than once, such as during a DST to STD transition."
   ]
  },
  {
   "cell_type": "code",
   "execution_count": 1,
   "metadata": {},
   "outputs": [],
   "source": [
    "from datetime import datetime, timedelta\n",
    "\n",
    "from dateutil import tz\n",
    "\n",
    "import pytz\n",
    "\n",
    "import tz_tests\n",
    "from helper_functions import print_dt_tzinfo"
   ]
  },
  {
   "cell_type": "code",
   "execution_count": 2,
   "metadata": {},
   "outputs": [],
   "source": [
    "NYC = tz.gettz('America/New_York')"
   ]
  },
  {
   "cell_type": "code",
   "execution_count": 3,
   "metadata": {},
   "outputs": [
    {
     "name": "stdout",
     "output_type": "stream",
     "text": [
      "2004-10-31 00:30:00-04:00 | EDT |  Unambiguous\n",
      "2004-10-31 01:30:00-04:00 | EDT |  Ambiguous\n",
      "2004-10-31 01:30:00-05:00 | EST |  Ambiguous\n",
      "2004-10-31 02:30:00-05:00 | EST |  Unambiguous\n"
     ]
    }
   ],
   "source": [
    "dt1 = datetime(2004, 10, 31, 4, 30, tzinfo=tz.UTC)\n",
    "for i in range(4):\n",
    "    dt = (dt1 + timedelta(hours=i)).astimezone(NYC)\n",
    "    ambig_str = 'Ambiguous' if tz.datetime_ambiguous(dt) else 'Unambiguous'\n",
    "    print(f'{dt} | {dt.tzname()} |  {ambig_str}')"
   ]
  },
  {
   "cell_type": "markdown",
   "metadata": {},
   "source": [
    "### [PEP 495: Local Time Disambiguation](https://www.python.org/dev/peps/pep-0495/)\n",
    "- First introduced in Python 3.6\n",
    "- Introduces the `fold` attribute of `datetime`\n",
    "- Changes aware datetime comparison around ambiguous times\n",
    "\n",
    "PEP 495 makes whether you are on the fold side a *property of the `datetime`*:"
   ]
  },
  {
   "cell_type": "code",
   "execution_count": 4,
   "metadata": {},
   "outputs": [
    {
     "name": "stdout",
     "output_type": "stream",
     "text": [
      "2004-10-31 01:30:00-0400\n",
      "    tzname:   EDT;      UTC Offset:  -4.00h;        DST:      1.0h\n",
      "\n",
      "2004-10-31 01:30:00-0500\n",
      "    tzname:   EST;      UTC Offset:  -5.00h;        DST:      0.0h\n"
     ]
    }
   ],
   "source": [
    "print_dt_tzinfo(datetime(2004, 10, 31, 1, 30, tzinfo=NYC))\n",
    "print('')\n",
    "print_dt_tzinfo(datetime(2004, 10, 31, 1, 30, fold=1, tzinfo=NYC))"
   ]
  },
  {
   "cell_type": "markdown",
   "metadata": {},
   "source": [
    "**Note**: `fold=1` represents the *second* instance of an ambiguous `datetime`."
   ]
  },
  {
   "cell_type": "markdown",
   "metadata": {},
   "source": [
    "### Imaginary times\n",
    "*Imaginary* times are wall times that never occur in a given time zone, such as during an STD to DST transition:"
   ]
  },
  {
   "cell_type": "code",
   "execution_count": 5,
   "metadata": {},
   "outputs": [
    {
     "name": "stdout",
     "output_type": "stream",
     "text": [
      "2004-04-04 01:30:00-05:00 | EST \n",
      "2004-04-04 03:30:00-04:00 | EDT \n",
      "2004-04-04 04:30:00-04:00 | EDT \n"
     ]
    }
   ],
   "source": [
    "dt1 = datetime(2004, 4, 4, 6, 30, tzinfo=tz.UTC)\n",
    "for i in range(3):\n",
    "    dt = (dt1 + timedelta(hours=i)).astimezone(NYC)\n",
    "    print(f'{dt} | {dt.tzname()} ')"
   ]
  },
  {
   "cell_type": "markdown",
   "metadata": {},
   "source": [
    "### Handling ambiguous times"
   ]
  },
  {
   "cell_type": "markdown",
   "metadata": {},
   "source": [
    "Both `dateutil` and `pytz` will automatically give you the right *absolute time* if converting from an absolute time."
   ]
  },
  {
   "cell_type": "code",
   "execution_count": 6,
   "metadata": {},
   "outputs": [],
   "source": [
    "dt1 = datetime(2004, 10, 31, 6, 30, tzinfo=tz.UTC)   # This is in the fold in EST"
   ]
  },
  {
   "cell_type": "code",
   "execution_count": 7,
   "metadata": {},
   "outputs": [
    {
     "name": "stdout",
     "output_type": "stream",
     "text": [
      "datetime.datetime(2004, 10, 31, 1, 30, fold=1, tzinfo=tzfile('/usr/share/zoneinfo/America/New_York'))\n",
      "2004-10-31 01:30:00-0500\n",
      "    tzname:   EST;      UTC Offset:  -5.00h;        DST:      0.0h\n"
     ]
    }
   ],
   "source": [
    "# dateutil\n",
    "dt_du = dt1.astimezone(tz.gettz('America/New_York'))\n",
    "print(repr(dt_du))\n",
    "print_dt_tzinfo(dt_du)"
   ]
  },
  {
   "cell_type": "code",
   "execution_count": 8,
   "metadata": {},
   "outputs": [
    {
     "name": "stdout",
     "output_type": "stream",
     "text": [
      "datetime.datetime(2004, 10, 31, 1, 30, tzinfo=<DstTzInfo 'America/New_York' EST-1 day, 19:00:00 STD>)\n",
      "2004-10-31 01:30:00-0500\n",
      "    tzname:   EST;      UTC Offset:  -5.00h;        DST:      0.0h\n"
     ]
    }
   ],
   "source": [
    "# pytz\n",
    "dt_pytz = dt1.astimezone(pytz.timezone('America/New_York'))\n",
    "print(repr(dt_pytz))    # Note that pytz doesn't set the fold attribute\n",
    "print_dt_tzinfo(dt_pytz)"
   ]
  },
  {
   "cell_type": "markdown",
   "metadata": {},
   "source": [
    "For backwards compatibility, `dateutil` provides a `tz.enfold` method to add a `fold` attribute if necessary:"
   ]
  },
  {
   "cell_type": "code",
   "execution_count": 9,
   "metadata": {},
   "outputs": [
    {
     "data": {
      "text/plain": [
       "datetime.datetime(2004, 10, 31, 1, 30, fold=1, tzinfo=tzfile('/usr/share/zoneinfo/America/New_York'))"
      ]
     },
     "execution_count": 9,
     "metadata": {},
     "output_type": "execute_result"
    }
   ],
   "source": [
    "dt = datetime(2004, 10, 31, 1, 30, tzinfo=NYC)\n",
    "tz.enfold(dt)"
   ]
  },
  {
   "cell_type": "markdown",
   "metadata": {},
   "source": [
    "```python\n",
    "Python 2.7.12\n",
    "Type \"help\", \"copyright\", \"credits\" or \"license\" for more information.\n",
    ">>> from datetime import datetime\n",
    ">>> from dateutil import tz\n",
    ">>> dt = datetime(2004, 10, 31, 1, 30, tzinfo=tz.gettz('US/Eastern'))\n",
    ">>> tz.enfold(dt)\n",
    "_DatetimeWithFold(2004, 10, 31, 1, 30, tzinfo=tzfile('/usr/share/zoneinfo/US/Eastern'))\n",
    ">>> tz.enfold(dt).tzname()\n",
    "'EST'\n",
    ">>> dt.tzname()\n",
    "'EDT'\n",
    "```"
   ]
  },
  {
   "cell_type": "markdown",
   "metadata": {},
   "source": [
    "To detect ambiguous times, `dateutil` provides `tz.datetime_ambiguous`:"
   ]
  },
  {
   "cell_type": "code",
   "execution_count": 10,
   "metadata": {},
   "outputs": [
    {
     "data": {
      "text/plain": [
       "True"
      ]
     },
     "execution_count": 10,
     "metadata": {},
     "output_type": "execute_result"
    }
   ],
   "source": [
    "tz.datetime_ambiguous(datetime(2004, 10, 31, 1, 30, tzinfo=NYC))"
   ]
  },
  {
   "cell_type": "code",
   "execution_count": 11,
   "metadata": {},
   "outputs": [
    {
     "data": {
      "text/plain": [
       "True"
      ]
     },
     "execution_count": 11,
     "metadata": {},
     "output_type": "execute_result"
    }
   ],
   "source": [
    "tz.datetime_ambiguous(datetime(2004, 10, 31, 1, 30), NYC)"
   ]
  },
  {
   "cell_type": "code",
   "execution_count": 12,
   "metadata": {},
   "outputs": [
    {
     "name": "stdout",
     "output_type": "stream",
     "text": [
      "2004-10-31 00:30:00-04:00 (fold=0)\n",
      "2004-10-31 01:30:00-05:00 (fold=1)\n",
      "2004-10-31 02:30:00-05:00 (fold=0)\n"
     ]
    }
   ],
   "source": [
    "dt_0 = datetime(2004, 10, 31, 0, 30, tzinfo=NYC)\n",
    "for i in range(3):\n",
    "    dt_i = dt_0 + timedelta(hours=i)\n",
    "    dt_i = tz.enfold(dt_i, tz.datetime_ambiguous(dt_i))\n",
    "    print(f'{dt_i} (fold={dt_i.fold})')"
   ]
  },
  {
   "cell_type": "markdown",
   "metadata": {},
   "source": [
    "**Note:** `fold` is ignored when `datetime` is not ambiguous:"
   ]
  },
  {
   "cell_type": "code",
   "execution_count": 13,
   "metadata": {},
   "outputs": [
    {
     "name": "stdout",
     "output_type": "stream",
     "text": [
      "2004-10-31 00:30:00-04:00 (fold=1)\n",
      "2004-10-31 01:30:00-05:00 (fold=1)\n",
      "2004-10-31 02:30:00-05:00 (fold=1)\n"
     ]
    }
   ],
   "source": [
    "for i in range(3):\n",
    "    dt_i = tz.enfold(dt_0 + timedelta(hours=i), fold=1)\n",
    "    print(f'{dt_i} (fold={dt_i.fold})')"
   ]
  },
  {
   "cell_type": "markdown",
   "metadata": {},
   "source": [
    "### Handling imaginary times"
   ]
  },
  {
   "cell_type": "markdown",
   "metadata": {},
   "source": [
    "While functions that convert from an *absolute time* to another absolute time (e.g. `astimezone`, `fromtimestamp` and `now`) will never create an imaginary time, it is possible to create imaginary times with functions that manipulate the naïve portion of the date, such as the constructor, arithmetic and `replace`.\n",
    "\n",
    "In order to determine if you have created an imaginary time after one of these operations, you can use `dateutil`'s `tz.datetime_exists()`:"
   ]
  },
  {
   "cell_type": "code",
   "execution_count": 14,
   "metadata": {},
   "outputs": [
    {
     "name": "stdout",
     "output_type": "stream",
     "text": [
      "2004-04-04 01:30:00-05:00 (Exists)\n",
      "2004-04-04 02:30:00-04:00 (Imaginary)\n",
      "2004-04-04 03:30:00-04:00 (Exists)\n"
     ]
    }
   ],
   "source": [
    "dt_0 = datetime(2004, 4, 4, 1, 30, tzinfo=NYC)\n",
    "for i in range(3):\n",
    "    dt = dt_0 + timedelta(hours=i)\n",
    "    print(f'{dt} ({{}})'.format('Exists' if tz.datetime_exists(dt) else 'Imaginary'))"
   ]
  },
  {
   "cell_type": "markdown",
   "metadata": {},
   "source": [
    "For the most part, if you are creating imaginary times, you want to \"skip forward\", to what the time *would be* if the transition had not happened: for example, if the datetime you have created is the result of an addition operation. For this, `dateutil` provides the `tz.resolve_imaginary` function:"
   ]
  },
  {
   "cell_type": "code",
   "execution_count": 15,
   "metadata": {},
   "outputs": [
    {
     "name": "stdout",
     "output_type": "stream",
     "text": [
      "Imaginary: 2004-04-04 02:30:00-04:00\n",
      "Resolved:  2004-04-04 03:30:00-04:00\n"
     ]
    }
   ],
   "source": [
    "dt = datetime(2004, 4, 4, 1, 30, tzinfo=NYC)\n",
    "dt_imag = dt + timedelta(hours=1)   # 2004-04-04 02:30 is imaginary\n",
    "print(f\"Imaginary: {dt_imag}\")\n",
    "print(f\"Resolved:  {tz.resolve_imaginary(dt_imag)}\")"
   ]
  },
  {
   "cell_type": "markdown",
   "metadata": {},
   "source": [
    "This works for imaginary times other than 1 hour as well:"
   ]
  },
  {
   "cell_type": "code",
   "execution_count": 16,
   "metadata": {},
   "outputs": [
    {
     "name": "stdout",
     "output_type": "stream",
     "text": [
      "1994-12-31 09:00:00-10:00 (Imaginary)\n"
     ]
    }
   ],
   "source": [
    "dt = datetime(1994, 12, 31, 9, tzinfo=tz.gettz('Pacific/Kiritimati'))\n",
    "print(f'{dt} ({{}})'.format('Exists' if tz.datetime_exists(dt) else 'Imaginary'))"
   ]
  },
  {
   "cell_type": "code",
   "execution_count": 17,
   "metadata": {},
   "outputs": [
    {
     "data": {
      "text/plain": [
       "datetime.datetime(1995, 1, 1, 9, 0, tzinfo=tzfile('/usr/share/zoneinfo/Pacific/Kiritimati'))"
      ]
     },
     "execution_count": 17,
     "metadata": {},
     "output_type": "execute_result"
    }
   ],
   "source": [
    "tz.resolve_imaginary(dt)"
   ]
  },
  {
   "cell_type": "markdown",
   "metadata": {},
   "source": [
    "All of these functions for handling ambiguous and imaginary times will work for `pytz` time zones as well, though `pytz` has its own way of handling this."
   ]
  },
  {
   "cell_type": "markdown",
   "metadata": {},
   "source": [
    "### `pytz`'s approach to handling ambiguous and imaginary times\n",
    "#### Ambiguous times"
   ]
  },
  {
   "cell_type": "markdown",
   "metadata": {},
   "source": [
    "`pytz` predates PEP 495, and in many ways its design was intended to solve the ambiguous and imaginary time problem before there was support for doing so in the standard library. Much of its non-standard interface is a consequence of the fact that without eagerly calculating time zone offsets, there is no way to specify which ambiguous wall time your `datetime` represents.\n",
    "\n",
    "When localizing an ambiguous `datetime`, `pytz` will default to the *second* occurrence (i.e. the `fold=1` state, usually standard time):"
   ]
  },
  {
   "cell_type": "code",
   "execution_count": 18,
   "metadata": {},
   "outputs": [
    {
     "name": "stdout",
     "output_type": "stream",
     "text": [
      "2004-10-31 01:30:00-0500\n",
      "    tzname:   EST;      UTC Offset:  -5.00h;        DST:      0.0h\n"
     ]
    }
   ],
   "source": [
    "NYC_pytz = pytz.timezone('America/New_York')\n",
    "dt_pytz = NYC_pytz.localize(datetime(2004, 10, 31, 1, 30))\n",
    "print_dt_tzinfo(dt_pytz)"
   ]
  },
  {
   "cell_type": "markdown",
   "metadata": {},
   "source": [
    "To get the *first* occurrence of a given wall time (i.e. the `fold=0` state, usually daylight saving time), pass `is_dst=True` to the `localize` function:"
   ]
  },
  {
   "cell_type": "code",
   "execution_count": 19,
   "metadata": {},
   "outputs": [
    {
     "name": "stdout",
     "output_type": "stream",
     "text": [
      "2004-10-31 01:30:00-0400\n",
      "    tzname:   EDT;      UTC Offset:  -4.00h;        DST:      1.0h\n"
     ]
    }
   ],
   "source": [
    "dt_pytz = NYC_pytz.localize(datetime(2004, 10, 31, 1, 30), is_dst=True)\n",
    "print_dt_tzinfo(dt_pytz)"
   ]
  },
  {
   "cell_type": "markdown",
   "metadata": {},
   "source": [
    "If you want to *detect* ambiguous times, pass `is_dst=None`, and `pytz` will raise an `AmbiguousTimeError` if a datetime is ambiguous:"
   ]
  },
  {
   "cell_type": "code",
   "execution_count": 20,
   "metadata": {},
   "outputs": [
    {
     "name": "stdout",
     "output_type": "stream",
     "text": [
      "2004-10-31 00:30:00 | Unambiguous\n",
      "2004-10-31 01:30:00 | Ambiguous\n"
     ]
    }
   ],
   "source": [
    "for hour in (0, 1):\n",
    "    dt = datetime(2004, 10, 31, hour, 30)\n",
    "    try:\n",
    "        NYC_pytz.localize(dt, is_dst=None)\n",
    "        print(f'{dt} | Unambiguous')\n",
    "    except pytz.AmbiguousTimeError:\n",
    "        print(f'{dt} | Ambiguous')"
   ]
  },
  {
   "cell_type": "markdown",
   "metadata": {},
   "source": [
    "#### Imaginary times\n",
    "When using `localize` on an imaginary `datetime`, `pytz` will create an imaginary time and assign it an offset based on `is_dst`:"
   ]
  },
  {
   "cell_type": "code",
   "execution_count": 21,
   "metadata": {},
   "outputs": [
    {
     "name": "stdout",
     "output_type": "stream",
     "text": [
      "2004-04-04 02:30:00-04:00\n",
      "2004-04-04 02:30:00-05:00\n"
     ]
    }
   ],
   "source": [
    "print(NYC_pytz.localize(datetime(2004, 4, 4, 2, 30), is_dst=True))\n",
    "print(NYC_pytz.localize(datetime(2004, 4, 4, 2, 30), is_dst=False))"
   ]
  },
  {
   "cell_type": "markdown",
   "metadata": {},
   "source": [
    "The default for `is_dst` is `False`:"
   ]
  },
  {
   "cell_type": "code",
   "execution_count": 22,
   "metadata": {},
   "outputs": [
    {
     "name": "stdout",
     "output_type": "stream",
     "text": [
      "2004-04-04 02:30:00-05:00\n"
     ]
    }
   ],
   "source": [
    "print(NYC_pytz.localize(datetime(2004, 4, 4, 2, 30)))"
   ]
  },
  {
   "cell_type": "markdown",
   "metadata": {},
   "source": [
    "Again, setting `is_dst=None` will cause `pytz` to throw an error, this time `NonExistentTimeError`:"
   ]
  },
  {
   "cell_type": "code",
   "execution_count": 23,
   "metadata": {},
   "outputs": [
    {
     "name": "stdout",
     "output_type": "stream",
     "text": [
      "2004-04-04 01:30:00-05:00 (Exists)\n",
      "2004-04-04 01:30:00-05:00 (Imaginary)\n",
      "2004-04-04 03:30:00-04:00 (Exists)\n"
     ]
    }
   ],
   "source": [
    "dt_0 = datetime(2004, 4, 4, 1, 30)\n",
    "for i in range(3):\n",
    "    try:\n",
    "        dt = NYC_pytz.localize(dt_0 + timedelta(hours=i), is_dst=None)\n",
    "        exist_str = 'Exists'\n",
    "    except pytz.NonExistentTimeError:\n",
    "        exist_str = 'Imaginary'\n",
    "\n",
    "    print(f'{dt} ({exist_str})')"
   ]
  },
  {
   "cell_type": "markdown",
   "metadata": {},
   "source": [
    "### Exercise: Build a `pytz`-style exception-based localizer with `dateutil`"
   ]
  },
  {
   "cell_type": "markdown",
   "metadata": {},
   "source": [
    "While `dateutil`'s interface for handling imaginary and ambiguous times is compatible with `pytz` zones, there is no built-in mechanism to throw *exceptions* when imaginary or ambiguous times are created. As an exercise, try to build a `localize` function that throws an exception using `dateutil.tz`'s functions for handling ambiguous and imaginary datetimes."
   ]
  },
  {
   "cell_type": "code",
   "execution_count": 24,
   "metadata": {},
   "outputs": [],
   "source": [
    "from tz_answers import AmbiguousTimeError, NonExistentTimeError\n",
    "\n",
    "def localize(dt, tzi, is_dst=False):\n",
    "    if dt.tzinfo is not None:\n",
    "        raise ValueError('localize can only be used with naïve datetimes')\n",
    "    \n",
    "    if is_dst is None:\n",
    "        if not tz.datetime_exists(dt, tzi):\n",
    "            raise NonExistentTimeError(f\"{dt} does not exist in {tzi}\")\n",
    "\n",
    "        if tz.datetime_ambiguous(dt, tzi):\n",
    "            raise AmbiguousTimeError(f\"{dt} is ambiguous in {tzi}\")\n",
    "    else:\n",
    "        dt_out = dt.replace(fold=(not is_dst), tzinfo=tzi)\n",
    "    return dt_out"
   ]
  },
  {
   "cell_type": "code",
   "execution_count": 25,
   "metadata": {},
   "outputs": [
    {
     "name": "stdout",
     "output_type": "stream",
     "text": [
      "Passed!\n"
     ]
    }
   ],
   "source": [
    "### Uncomment this to test\n",
    "tz_tests.test_localize(localize)"
   ]
  },
  {
   "cell_type": "code",
   "execution_count": 26,
   "metadata": {},
   "outputs": [
    {
     "data": {
      "text/plain": [
       "datetime.datetime(2019, 5, 1, 12, 31, 57, 688678, fold=1)"
      ]
     },
     "execution_count": 26,
     "metadata": {},
     "output_type": "execute_result"
    }
   ],
   "source": [
    "localize(datetime.now(), tz.gettz(\"America/New_york\"))"
   ]
  },
  {
   "cell_type": "code",
   "execution_count": null,
   "metadata": {},
   "outputs": [],
   "source": []
  }
 ],
 "metadata": {
  "kernelspec": {
   "display_name": "Python 3",
   "language": "python",
   "name": "python3"
  },
  "language_info": {
   "codemirror_mode": {
    "name": "ipython",
    "version": 3
   },
   "file_extension": ".py",
   "mimetype": "text/x-python",
   "name": "python",
   "nbconvert_exporter": "python",
   "pygments_lexer": "ipython3",
   "version": "3.7.3"
  }
 },
 "nbformat": 4,
 "nbformat_minor": 2
}
